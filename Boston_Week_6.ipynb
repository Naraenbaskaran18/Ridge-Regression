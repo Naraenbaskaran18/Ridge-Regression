{
  "nbformat": 4,
  "nbformat_minor": 0,
  "metadata": {
    "colab": {
      "provenance": [],
      "authorship_tag": "ABX9TyNa8DaUYuIgvjVVcckNYPCj",
      "include_colab_link": true
    },
    "kernelspec": {
      "name": "python3",
      "display_name": "Python 3"
    },
    "language_info": {
      "name": "python"
    }
  },
  "cells": [
    {
      "cell_type": "markdown",
      "metadata": {
        "id": "view-in-github",
        "colab_type": "text"
      },
      "source": [
        "<a href=\"https://colab.research.google.com/github/Naraenbaskaran18/Ridge-Regression/blob/main/Boston_Week_6.ipynb\" target=\"_parent\"><img src=\"https://colab.research.google.com/assets/colab-badge.svg\" alt=\"Open In Colab\"/></a>"
      ]
    },
    {
      "cell_type": "code",
      "execution_count": 1,
      "metadata": {
        "id": "wZ0-43cqIbLF"
      },
      "outputs": [],
      "source": [
        "import numpy as np\n",
        "from sklearn.datasets import fetch_openml\n",
        "from sklearn.preprocessing import StandardScaler\n",
        "from sklearn.metrics import r2_score\n",
        "from sklearn.model_selection import train_test_split\n",
        "from sklearn.metrics import mean_squared_error\n",
        "import matplotlib.pyplot as plt\n",
        "\n"
      ]
    },
    {
      "cell_type": "code",
      "source": [
        "class RidgeRegression:\n",
        "    def __init__(self, alpha=1):\n",
        "        self.alpha = alpha\n",
        "        self.theta = None\n",
        "        \n",
        "    def cost_function(self, X, y, theta):\n",
        "        m = len(y) \n",
        "        y_pred = X.dot(theta)\n",
        "        cost = (1/(2*m)) * np.sum((y_pred - y)**2) + (self.alpha/(2*m)) * np.sum(theta[1:]**2)\n",
        "        return cost\n",
        "    \n",
        "    def gradient_function(self, X, y, theta):\n",
        "        m = len(y)\n",
        "        y_pred = X.dot(theta)\n",
        "        grad = (1/m) * (X.T.dot(y_pred - y)) + (self.alpha/m) * np.concatenate(([0], theta[1:]))\n",
        "        return grad\n",
        "    \n",
        "    def fit(self, X, y, learning_rate=0.01, num_iterations=1000):\n",
        "        m, n = X.shape\n",
        "        X = np.concatenate((np.ones((m, 1)), X), axis=1)\n",
        "        self.theta = np.zeros(n+1)\n",
        "        \n",
        "        for i in range(num_iterations):\n",
        "            grad = self.gradient_function(X, y, self.theta)\n",
        "            self.theta = self.theta - learning_rate * grad\n",
        "            \n",
        "    def predict(self, X):\n",
        "        m = X.shape[0]\n",
        "        X = np.concatenate((np.ones((m, 1)), X), axis=1)\n",
        "        return X.dot(self.theta)\n",
        "    \n",
        "    def grid_search(self, X_train, y_train, X_test, y_test, alpha_values, learning_rate_values, num_iterations_values):\n",
        "        best_alpha = None\n",
        "        best_learning_rate = None\n",
        "        best_num_iterations = None\n",
        "        best_r2 = -np.inf\n",
        "        \n",
        "        for alpha in alpha_values:\n",
        "            for learning_rate in learning_rate_values:\n",
        "                for num_iterations in num_iterations_values:\n",
        "                    self.alpha = alpha\n",
        "                    self.fit(X_train, y_train, learning_rate=learning_rate, num_iterations=num_iterations)\n",
        "                    y_pred = self.predict(X_test)\n",
        "                    r2 = r2_score(y_test, y_pred)\n",
        "                    if r2 > best_r2:\n",
        "                        best_r2 = r2\n",
        "                        best_alpha = alpha\n",
        "                        best_learning_rate = learning_rate\n",
        "                        best_num_iterations = num_iterations\n",
        "        \n",
        "        self.alpha = best_alpha\n",
        "        self.fit(X_train, y_train, learning_rate=best_learning_rate, num_iterations=best_num_iterations)\n",
        "        print(\"Best hyperparameters:\")\n",
        "        print(\"alpha:\", best_alpha)\n",
        "        print(\"learning rate:\", best_learning_rate)\n",
        "        print(\"num iterations:\", best_num_iterations)\n",
        "        print(\"best R2 score:\", best_r2)"
      ],
      "metadata": {
        "id": "vb17ZM-hIe-B"
      },
      "execution_count": 2,
      "outputs": []
    },
    {
      "cell_type": "code",
      "source": [
        "# load the Boston Housing dataset\n",
        "boston = fetch_openml(name='boston')\n",
        "X, y = boston.data, boston.target\n",
        "\n",
        "# Standardize the features\n",
        "scaler = StandardScaler()\n",
        "X = scaler.fit_transform(X)\n",
        "\n",
        "# split the dataset into training and test sets\n",
        "\n",
        "X_train, X_test, y_train, y_test = train_test_split(X, y, test_size=0.2, random_state=42)\n",
        "\n",
        "\n"
      ],
      "metadata": {
        "id": "Xj5vcv8AIl7i",
        "outputId": "b142a74a-4dc4-4d1f-8bc4-595f07a6ddd3",
        "colab": {
          "base_uri": "https://localhost:8080/"
        }
      },
      "execution_count": 3,
      "outputs": [
        {
          "output_type": "stream",
          "name": "stderr",
          "text": [
            "/usr/local/lib/python3.9/dist-packages/sklearn/datasets/_openml.py:292: UserWarning: Multiple active versions of the dataset matching the name boston exist. Versions may be fundamentally different, returning version 1.\n",
            "  warn(\n",
            "/usr/local/lib/python3.9/dist-packages/sklearn/datasets/_openml.py:932: FutureWarning: The default value of `parser` will change from `'liac-arff'` to `'auto'` in 1.4. You can set `parser='auto'` to silence this warning. Therefore, an `ImportError` will be raised from 1.4 if the dataset is dense and pandas is not installed. Note that the pandas parser may return different data types. See the Notes Section in fetch_openml's API doc for details.\n",
            "  warn(\n"
          ]
        }
      ]
    },
    {
      "cell_type": "code",
      "source": [
        "# create an instance of the RidgeRegression class\n",
        "ridge_reg = RidgeRegression()\n",
        "\n",
        "# fit the model to the training data\n",
        "ridge_reg.fit(X_train, y_train)"
      ],
      "metadata": {
        "id": "5_1d4-wHIn6l"
      },
      "execution_count": 4,
      "outputs": []
    },
    {
      "cell_type": "code",
      "source": [
        "# Define the hyperparameters to search over\n",
        "alpha_values = [0.01, 0.1, 1, 10]\n",
        "learning_rate_values = [0.001, 0.01,0.1]\n",
        "num_iterations_values = [100,1000,10000]"
      ],
      "metadata": {
        "id": "A7oyzmPMIqJd"
      },
      "execution_count": 5,
      "outputs": []
    },
    {
      "cell_type": "code",
      "source": [
        "#Perform grid search to find the best hyperparameters\n",
        "ridge_reg.grid_search(X_train, y_train, X_test, y_test, alpha_values, learning_rate_values, num_iterations_values)"
      ],
      "metadata": {
        "id": "uRhqNIfvIrv0",
        "outputId": "fa7fd320-4fed-4715-c06a-d8536dc822e3",
        "colab": {
          "base_uri": "https://localhost:8080/"
        }
      },
      "execution_count": 6,
      "outputs": [
        {
          "output_type": "stream",
          "name": "stdout",
          "text": [
            "Best hyperparameters:\n",
            "alpha: 0.01\n",
            "learning rate: 0.1\n",
            "num iterations: 10000\n",
            "best R2 score: 0.6687562987931833\n"
          ]
        }
      ]
    },
    {
      "cell_type": "code",
      "source": [
        "# make predictions on the train data\n",
        "y_pred_train = ridge_reg.predict(X_train)\n",
        "# compute the R2 score\n",
        "r2 = r2_score(y_train, y_pred_train)\n",
        "print(\"R2 score on test set:\", r2)"
      ],
      "metadata": {
        "id": "pSD3ermbIu_o",
        "outputId": "d2e11faa-4d27-4ec9-cbfb-41b67cdadb41",
        "colab": {
          "base_uri": "https://localhost:8080/"
        }
      },
      "execution_count": 7,
      "outputs": [
        {
          "output_type": "stream",
          "name": "stdout",
          "text": [
            "R2 score on test set: 0.7508856342503366\n"
          ]
        }
      ]
    },
    {
      "cell_type": "code",
      "source": [
        "# make predictions on the test data\n",
        "y_pred = ridge_reg.predict(X_test)\n",
        "# compute the R2 score\n",
        "Ridge_score_2 = r2_score(y_test, y_pred)\n",
        "print(\"R2 score on test set:\", Ridge_score_2)"
      ],
      "metadata": {
        "id": "26f3NVl9Iwrh",
        "outputId": "6b909a6f-3469-4f5a-b087-b317fd70cee7",
        "colab": {
          "base_uri": "https://localhost:8080/"
        }
      },
      "execution_count": 40,
      "outputs": [
        {
          "output_type": "stream",
          "name": "stdout",
          "text": [
            "R2 score on test set: 0.6678811676096412\n"
          ]
        }
      ]
    },
    {
      "cell_type": "code",
      "source": [
        "# compute the mse\n",
        "mse = mean_squared_error(y_test, y_pred)\n",
        "print(\"mse:\", mse)"
      ],
      "metadata": {
        "id": "nJBP0BnOIyVN",
        "outputId": "c3e2ba60-e8b0-43f8-ecc8-88f772afed71",
        "colab": {
          "base_uri": "https://localhost:8080/"
        }
      },
      "execution_count": 9,
      "outputs": [
        {
          "output_type": "stream",
          "name": "stdout",
          "text": [
            "mse: 24.291353757523503\n"
          ]
        }
      ]
    },
    {
      "cell_type": "code",
      "source": [
        "plt.scatter(y_test, y_pred)\n",
        "plt.xlabel('True values')\n",
        "plt.ylabel('Predicted values')\n",
        "plt.title('Predicted values vs. True values')\n",
        "plt.show()"
      ],
      "metadata": {
        "id": "LT_I_K96I0w0",
        "outputId": "807e9700-b66f-4999-aa10-3319083b019f",
        "colab": {
          "base_uri": "https://localhost:8080/",
          "height": 295
        }
      },
      "execution_count": 10,
      "outputs": [
        {
          "output_type": "display_data",
          "data": {
            "text/plain": [
              "<Figure size 432x288 with 1 Axes>"
            ],
            "image/png": "[encoded data removed]"
          },
          "metadata": {
            "needs_background": "light"
          }
        }
      ]
    },
    {
      "cell_type": "markdown",
      "source": [
        "SK-LEARN"
      ],
      "metadata": {
        "id": "F8KHWR4ZJEF7"
      }
    },
    {
      "cell_type": "code",
      "source": [
        "# Importing the basic libraries\n",
        "\n",
        "import pandas as pd\n",
        "import numpy as np\n",
        "import seaborn as sns\n",
        "import matplotlib.pyplot as plt\n",
        "get_ipython().run_line_magic('matplotlib', 'inline')\n",
        "import warnings\n",
        "warnings.filterwarnings(action='ignore', category=FutureWarning)"
      ],
      "metadata": {
        "id": "cFLNEzZVI3BH"
      },
      "execution_count": 11,
      "outputs": []
    },
    {
      "cell_type": "code",
      "source": [
        "# Importing the dataset from sklearn \n",
        "# The name of the dataset is boston\n",
        "\n",
        "from sklearn.datasets import fetch_openml\n",
        "boston = fetch_openml(name='boston')"
      ],
      "metadata": {
        "id": "FqhPB3reJDXz",
        "outputId": "452767ad-f0f2-4b6a-cafd-bfbd2f0313a2",
        "colab": {
          "base_uri": "https://localhost:8080/"
        }
      },
      "execution_count": 12,
      "outputs": [
        {
          "output_type": "stream",
          "name": "stderr",
          "text": [
            "/usr/local/lib/python3.9/dist-packages/sklearn/datasets/_openml.py:292: UserWarning: Multiple active versions of the dataset matching the name boston exist. Versions may be fundamentally different, returning version 1.\n",
            "  warn(\n"
          ]
        }
      ]
    },
    {
      "cell_type": "code",
      "source": [
        "df=boston"
      ],
      "metadata": {
        "id": "nw_tEeADJDLq"
      },
      "execution_count": 13,
      "outputs": []
    },
    {
      "cell_type": "code",
      "source": [
        "data=pd.DataFrame(df.data,columns=df.feature_names)"
      ],
      "metadata": {
        "id": "b5JFLPFMJOYl"
      },
      "execution_count": 14,
      "outputs": []
    },
    {
      "cell_type": "code",
      "source": [
        "data['Price']=df.target"
      ],
      "metadata": {
        "id": "c4Si-yj-JYPC"
      },
      "execution_count": 15,
      "outputs": []
    },
    {
      "cell_type": "code",
      "source": [
        "# Spliting the features and target in x and y variables \n",
        "\n",
        "\n",
        "x1=data.iloc[:,:-1]\n",
        "y1=data.iloc[:,-1]"
      ],
      "metadata": {
        "id": "pBL7A64DJbSD"
      },
      "execution_count": 16,
      "outputs": []
    },
    {
      "cell_type": "code",
      "source": [
        "# Spliting the dataset into train and test part\n",
        "\n",
        "from sklearn.model_selection import train_test_split\n"
      ],
      "metadata": {
        "id": "npClvJmXJewX"
      },
      "execution_count": 17,
      "outputs": []
    },
    {
      "cell_type": "code",
      "source": [
        "x_train1,x_test1,y_train1,y_test1=train_test_split(x1,y1,test_size=0.30,random_state=40)"
      ],
      "metadata": {
        "id": "EcYFygJwJhvS"
      },
      "execution_count": 18,
      "outputs": []
    },
    {
      "cell_type": "code",
      "source": [
        "from sklearn.preprocessing import StandardScaler\n",
        "\n",
        "scaler=StandardScaler()\n",
        "x_train1=scaler.fit_transform(x_train1)\n",
        "x_test1=scaler.transform(x_test1)\n"
      ],
      "metadata": {
        "id": "Qbx97hXnJwyn"
      },
      "execution_count": 19,
      "outputs": []
    },
    {
      "cell_type": "code",
      "source": [
        "from sklearn.linear_model import Ridge\n",
        "ridge=Ridge()"
      ],
      "metadata": {
        "id": "baz2WrWQJ9be"
      },
      "execution_count": 20,
      "outputs": []
    },
    {
      "cell_type": "code",
      "source": [
        "ridge_model=ridge.fit(x_train1,y_train1)"
      ],
      "metadata": {
        "id": "wSmoE15BKBTM"
      },
      "execution_count": 21,
      "outputs": []
    },
    {
      "cell_type": "code",
      "source": [
        "ridge_predict=ridge.predict(x_test1)"
      ],
      "metadata": {
        "id": "TRzZQrq3KDdk"
      },
      "execution_count": 22,
      "outputs": []
    },
    {
      "cell_type": "code",
      "source": [
        "ridge_model.coef_"
      ],
      "metadata": {
        "id": "6Lw1UiejKIe0",
        "outputId": "72a8c605-9e65-41eb-afc3-1ebf94f5030a",
        "colab": {
          "base_uri": "https://localhost:8080/"
        }
      },
      "execution_count": 23,
      "outputs": [
        {
          "output_type": "execute_result",
          "data": {
            "text/plain": [
              "array([-0.60430617,  0.87819698, -0.43775812,  0.86148537, -1.94515396,\n",
              "        2.35236886, -0.15574484, -2.82704925,  2.07756317, -1.5240697 ,\n",
              "       -1.73475925,  0.63223194, -3.20464176])"
            ]
          },
          "metadata": {},
          "execution_count": 23
        }
      ]
    },
    {
      "cell_type": "code",
      "source": [
        "ridge_model.intercept_"
      ],
      "metadata": {
        "id": "RGfzfacaKLii",
        "outputId": "6ef66940-4703-4dd5-9340-e4efca7eb5e8",
        "colab": {
          "base_uri": "https://localhost:8080/"
        }
      },
      "execution_count": 24,
      "outputs": [
        {
          "output_type": "execute_result",
          "data": {
            "text/plain": [
              "22.331355932203394"
            ]
          },
          "metadata": {},
          "execution_count": 24
        }
      ]
    },
    {
      "cell_type": "code",
      "source": [
        "# ### Performance Metrics\n",
        "from sklearn.metrics import mean_squared_error\n",
        "from sklearn.metrics import mean_absolute_error\n",
        "\n",
        "print(\"Mean squared error:\",mean_squared_error(y_test1,ridge_predict))\n",
        "print(\"Mean absolute error:\",mean_absolute_error(y_test1,ridge_predict))\n",
        "print(\"Root mean squared error:\",np.sqrt(mean_squared_error(y_test1,ridge_predict)))"
      ],
      "metadata": {
        "id": "LYkRYDKUKNeG",
        "outputId": "43f07ef4-1de5-4605-d717-76aafbfb7950",
        "colab": {
          "base_uri": "https://localhost:8080/"
        }
      },
      "execution_count": 25,
      "outputs": [
        {
          "output_type": "stream",
          "name": "stdout",
          "text": [
            "Mean squared error: 31.893066960579368\n",
            "Mean absolute error: 3.9078243776859987\n",
            "Root mean squared error: 5.647394705577021\n"
          ]
        }
      ]
    },
    {
      "cell_type": "code",
      "source": [
        "from sklearn.metrics import r2_score\n",
        "Ridge_score= r2_score(y_test1,ridge_predict)\n",
        "print(Ridge_score)\n"
      ],
      "metadata": {
        "id": "7m0rXAoDKSBZ",
        "outputId": "61e897cf-b7a0-472c-a0d0-168f688a56da",
        "colab": {
          "base_uri": "https://localhost:8080/"
        }
      },
      "execution_count": 41,
      "outputs": [
        {
          "output_type": "stream",
          "name": "stdout",
          "text": [
            "0.7209970306495048\n"
          ]
        }
      ]
    },
    {
      "cell_type": "code",
      "source": [
        "plt.scatter(y_test1, ridge_predict,c='RED')\n",
        "plt.xlabel('True values')\n",
        "plt.ylabel('Predicted values')\n",
        "plt.title('Predicted values vs. True values')\n",
        "plt.show()"
      ],
      "metadata": {
        "colab": {
          "base_uri": "https://localhost:8080/",
          "height": 295
        },
        "id": "xYDGVpuYVlwZ",
        "outputId": "556f80f2-4607-46c1-f300-8a9bc041b096"
      },
      "execution_count": 42,
      "outputs": [
        {
          "output_type": "display_data",
          "data": {
            "text/plain": [
              "<Figure size 432x288 with 1 Axes>"
            ],
            "image/png": "[encoded data removed]"
          },
          "metadata": {
            "needs_background": "light"
          }
        }
      ]
    },
    {
      "cell_type": "code",
      "source": [
        "import matplotlib.pyplot as plt\n",
        "\n",
        "# suppose you have two sets of predicted values from two different models, y_pred1 and y_pred2\n",
        "\n",
        "# plot the predictions from the first model in blue\n",
        "plt.plot(y_test, y_pred, 'bo', label='Without Using Sk-learn')\n",
        "\n",
        "# plot the predictions from the second model in red\n",
        "plt.plot(y_test1, ridge_predict, 'ro', label='Using Sk-learn')\n",
        "\n",
        "# add a diagonal line to represent perfect predictions\n",
        "plt.plot([0, 50], [0, 50], 'k-', label='Perfect predictions')\n",
        "\n",
        "# set the axis labels and legend\n",
        "plt.xlabel('True Values')\n",
        "plt.ylabel('Predictions')\n",
        "plt.legend()\n",
        "\n",
        "# show the plot\n",
        "plt.show()"
      ],
      "metadata": {
        "id": "3KwJHNymKUTd",
        "outputId": "03bd4b06-f077-4a60-e9eb-dcaafef62762",
        "colab": {
          "base_uri": "https://localhost:8080/",
          "height": 279
        }
      },
      "execution_count": 27,
      "outputs": [
        {
          "output_type": "display_data",
          "data": {
            "text/plain": [
              "<Figure size 432x288 with 1 Axes>"
            ],
            "image/png": "[encoded data removed]"
          },
          "metadata": {
            "needs_background": "light"
          }
        }
      ]
    },
    {
      "cell_type": "code",
      "source": [],
      "metadata": {
        "id": "m6s9YVNFKkvR"
      },
      "execution_count": 27,
      "outputs": []
    },
    {
      "cell_type": "markdown",
      "source": [
        "Without Hyperparameter"
      ],
      "metadata": {
        "id": "I4UNVxQZnFTH"
      }
    },
    {
      "cell_type": "code",
      "source": [
        "import numpy as np\n",
        "from sklearn.preprocessing import StandardScaler\n",
        "from sklearn.model_selection import train_test_split\n",
        "from sklearn.metrics import mean_squared_error\n",
        "from sklearn.datasets import fetch_openml\n",
        "boston = fetch_openml(name='boston')"
      ],
      "metadata": {
        "colab": {
          "base_uri": "https://localhost:8080/"
        },
        "id": "NfaoogQonPwl",
        "outputId": "b2949c69-94ac-43b7-84e8-a4b3458c4ee6"
      },
      "execution_count": 33,
      "outputs": [
        {
          "output_type": "stream",
          "name": "stderr",
          "text": [
            "/usr/local/lib/python3.9/dist-packages/sklearn/datasets/_openml.py:292: UserWarning: Multiple active versions of the dataset matching the name boston exist. Versions may be fundamentally different, returning version 1.\n",
            "  warn(\n"
          ]
        }
      ]
    },
    {
      "cell_type": "code",
      "source": [
        "class RidgeRegression:\n",
        "    def __init__(self, alpha=1):\n",
        "        self.alpha = alpha\n",
        "        self.theta = None\n",
        "        \n",
        "    def cost_function(self, X, y, theta):\n",
        "        m = len(y) \n",
        "        y_pred = X.dot(theta)\n",
        "        cost = (1/(2*m)) * np.sum((y_pred - y)**2) + (self.alpha/(2*m)) * np.sum(theta[1:]**2)\n",
        "        return cost\n",
        "    \n",
        "    def gradient_function(self, X, y, theta):\n",
        "        m = len(y)\n",
        "        y_pred = X.dot(theta)\n",
        "        grad = (1/m) * (X.T.dot(y_pred - y)) + (self.alpha/m) * np.concatenate(([0], theta[1:]))\n",
        "        return grad\n",
        "    \n",
        "    def fit(self, X, y, learning_rate=0.01, num_iterations=1000):\n",
        "        m, n = X.shape\n",
        "        X = np.concatenate((np.ones((m, 1)), X), axis=1)\n",
        "        self.theta = np.zeros(n+1)\n",
        "        \n",
        "        for i in range(num_iterations):\n",
        "            grad = self.gradient_function(X, y, self.theta)\n",
        "            self.theta = self.theta - learning_rate * grad\n",
        "            \n",
        "    def predict(self, X):\n",
        "        m = X.shape[0]\n",
        "        X = np.concatenate((np.ones((m, 1)), X), axis=1)\n",
        "        return X.dot(self.theta)\n",
        "    "
      ],
      "metadata": {
        "id": "b699Lkz4nSFC"
      },
      "execution_count": 34,
      "outputs": []
    },
    {
      "cell_type": "code",
      "source": [
        "\n",
        "# split the dataset into training and test sets\n",
        "X_train, X_test, y_train, y_test = train_test_split(boston.data, boston.target, test_size=0.2, random_state=42)\n",
        "\n",
        "# standardize the data\n",
        "scaler = StandardScaler()\n",
        "X_train = scaler.fit_transform(X_train)\n",
        "X_test = scaler.transform(X_test)\n"
      ],
      "metadata": {
        "id": "5zDvk5JfncM-"
      },
      "execution_count": 35,
      "outputs": []
    },
    {
      "cell_type": "code",
      "source": [
        "# create an instance of the RidgeRegression class\n",
        "model = RidgeRegression(alpha=0.1)\n",
        "\n",
        "# fit the model to the training data\n",
        "model.fit(X_train, y_train)"
      ],
      "metadata": {
        "id": "rSROR2bXneWP"
      },
      "execution_count": 36,
      "outputs": []
    },
    {
      "cell_type": "code",
      "source": [
        "# make predictions on the test data\n",
        "y_pred = model.predict(X_test)\n",
        "\n",
        "# compute the R2 score\n",
        "from sklearn.metrics import r2_score\n",
        "Ridge_score_1 = r2_score(y_test, y_pred)\n",
        "print(\"R2 Score:\", Ridge_score_1)\n",
        "     "
      ],
      "metadata": {
        "colab": {
          "base_uri": "https://localhost:8080/"
        },
        "id": "Xp-GuR1qnhfe",
        "outputId": "767eeb9d-c252-4407-e3b2-fc238ebb1a0d"
      },
      "execution_count": 39,
      "outputs": [
        {
          "output_type": "stream",
          "name": "stdout",
          "text": [
            "R2 Score: 0.6543397824732914\n"
          ]
        }
      ]
    },
    {
      "cell_type": "code",
      "source": [
        "\n",
        "mse = mean_squared_error(y_test, y_pred)\n",
        "print(\"mse:\", mse)\n",
        "     "
      ],
      "metadata": {
        "colab": {
          "base_uri": "https://localhost:8080/"
        },
        "id": "WRD0o2XxnnQt",
        "outputId": "dc505455-f763-4b6d-e000-975bb137f5a9"
      },
      "execution_count": 38,
      "outputs": [
        {
          "output_type": "stream",
          "name": "stdout",
          "text": [
            "mse: 25.348571439253714\n"
          ]
        }
      ]
    },
    {
      "cell_type": "code",
      "source": [
        "import matplotlib.pyplot as plt\n",
        "\n",
        "# Define the accuracy data for each model\n",
        "model1_acc = Ridge_score\n",
        "model2_acc = Ridge_score_1\n",
        "model3_acc = Ridge_score_2\n",
        "\n",
        "# Define the labels and positions for the bars\n",
        "labels = ['Model 1', 'Model 2', 'Model 3']\n",
        "x_pos = [i for i, _ in enumerate(labels)]\n",
        "\n",
        "# Define the heights of the bars\n",
        "heights = [model1_acc, model2_acc, model3_acc]\n",
        "\n",
        "# Plot the bar graph\n",
        "plt.bar(x_pos, heights, color='blue')\n",
        "\n",
        "# Set the y-axis limit\n",
        "plt.ylim([0.6, max(heights) + 0.1])\n",
        "\n",
        "# Add labels and title\n",
        "plt.xlabel(\"Models\")\n",
        "plt.ylabel(\"Accuracy\")\n",
        "plt.title(\"Comparison of Accuracy between Models\")\n",
        "\n",
        "# Add x-axis tick labels\n",
        "plt.xticks(x_pos, labels)\n",
        "\n",
        "# Add annotations for each bar\n",
        "for i, v in enumerate(heights):\n",
        "    plt.annotate(str(round(v, 2)), xy=(i, v), ha='center', va='bottom')\n",
        "\n",
        "# Display the graph\n",
        "plt.show()\n"
      ],
      "metadata": {
        "colab": {
          "base_uri": "https://localhost:8080/",
          "height": 295
        },
        "id": "UyzbcC77npUc",
        "outputId": "ce613449-3268-49f7-d224-2d36a8636e41"
      },
      "execution_count": 47,
      "outputs": [
        {
          "output_type": "display_data",
          "data": {
            "text/plain": [
              "<Figure size 432x288 with 1 Axes>"
            ],
            "image/png": "[encoded data removed]"
          },
          "metadata": {
            "needs_background": "light"
          }
        }
      ]
    },
    {
      "cell_type": "code",
      "source": [],
      "metadata": {
        "id": "UTpjBW4zoOI6"
      },
      "execution_count": null,
      "outputs": []
    }
  ]
}